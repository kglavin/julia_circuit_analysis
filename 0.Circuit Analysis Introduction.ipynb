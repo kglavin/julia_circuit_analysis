{
 "cells": [
  {
   "cell_type": "markdown",
   "metadata": {},
   "source": [
    "#  Circuit Analysis -- Introduction\n",
    "## Current, flow of charge\n",
    "\n",
    "Current is the flow of charge, 1 Ampere is the when 6.242 x 10^18 electrons drift at a uniform velocity through a circular cross section in 1 second. "
   ]
  },
  {
   "cell_type": "code",
   "execution_count": 1,
   "metadata": {
    "collapsed": false
   },
   "outputs": [
    {
     "data": {
      "text/plain": [
       "Q (generic function with 1 method)"
      ]
     },
     "execution_count": 1,
     "metadata": {},
     "output_type": "execute_result"
    }
   ],
   "source": [
    "const Coulomb = 6.242e18\n",
    "const Ampere = 1/Coulomb\n",
    "I(Q::Real,t::Real) = Q/t \n",
    "Q(I::Real,t::Real) = I*t"
   ]
  },
  {
   "cell_type": "markdown",
   "metadata": {},
   "source": [
    "### Question:  The charge flowing through a surface is 0.16C every 64mS, what is the current in Amperes"
   ]
  },
  {
   "cell_type": "code",
   "execution_count": 2,
   "metadata": {
    "collapsed": false
   },
   "outputs": [
    {
     "data": {
      "text/plain": [
       "(2.5,\"Amperes\")"
      ]
     },
     "execution_count": 2,
     "metadata": {},
     "output_type": "execute_result"
    }
   ],
   "source": [
    "amp = I(0.16,64e-3) \n",
    "(amp, \"Amperes\")"
   ]
  },
  {
   "cell_type": "markdown",
   "metadata": {},
   "source": [
    "### Question: Determine the time for 4e16 (4 x 10^16) electrons to pass through a surface if the current is 5mA.\n",
    "\n",
    "Step 1: Determine q"
   ]
  },
  {
   "cell_type": "code",
   "execution_count": 3,
   "metadata": {
    "collapsed": false
   },
   "outputs": [
    {
     "data": {
      "text/plain": [
       "(0.006408202499198975,\"Coulombs\")"
      ]
     },
     "execution_count": 3,
     "metadata": {},
     "output_type": "execute_result"
    }
   ],
   "source": [
    "electrons = 4e16\n",
    "q = electrons/Coulomb\n",
    "(q,\"Coulombs\")"
   ]
  },
  {
   "cell_type": "markdown",
   "metadata": {},
   "source": [
    "Step 2: Calculate time"
   ]
  },
  {
   "cell_type": "code",
   "execution_count": 4,
   "metadata": {
    "collapsed": false
   },
   "outputs": [
    {
     "data": {
      "text/plain": [
       "(1.281640499839795,\"Seconds\")"
      ]
     },
     "execution_count": 4,
     "metadata": {},
     "output_type": "execute_result"
    }
   ],
   "source": [
    "i = 5e-3\n",
    "t = q/i \n",
    "(t, \"Seconds\")"
   ]
  },
  {
   "cell_type": "markdown",
   "metadata": {
    "collapsed": true
   },
   "source": [
    "## Volt, Potential difference\n",
    "A potential difference of 1 volt(V) if 1 joule(J) of energy is exchanged moving 1 coulomb(C) if charge between the two points. \n",
    "\n",
    "$V=W/Q$ (volts)\n",
    "\n",
    "$W=QV$ (joules)\n",
    "\n",
    "$Q=W/V$ (coulombs)\n",
    "\n",
    "\n",
    "### Question: Find the potential difference between two points in an electrical system if $60J$ of energy is expended by a charge of $20C$ \n"
   ]
  },
  {
   "cell_type": "code",
   "execution_count": 5,
   "metadata": {
    "collapsed": false
   },
   "outputs": [
    {
     "data": {
      "text/plain": [
       "(3.0,\"Volts\")"
      ]
     },
     "execution_count": 5,
     "metadata": {},
     "output_type": "execute_result"
    }
   ],
   "source": [
    "w = 60\n",
    "q = 20\n",
    "v = w/q\n",
    "(v, \"Volts\")"
   ]
  },
  {
   "cell_type": "markdown",
   "metadata": {},
   "source": [
    "### Question: Determine the energy expended moving a charge of $50\\mu$$C$  through a potential difference of $6V$"
   ]
  },
  {
   "cell_type": "code",
   "execution_count": 6,
   "metadata": {
    "collapsed": false
   },
   "outputs": [
    {
     "data": {
      "text/plain": [
       "(0.00030000000000000003,\"joules\")"
      ]
     },
     "execution_count": 6,
     "metadata": {},
     "output_type": "execute_result"
    }
   ],
   "source": [
    "q = 0.000050\n",
    "v = 6.0\n",
    "w = q*v\n",
    "(w,\"joules\")"
   ]
  },
  {
   "cell_type": "markdown",
   "metadata": {},
   "source": [
    "julia error here - answer should be $300\\mu$$J$ but there is some rounding error in float64 type"
   ]
  },
  {
   "cell_type": "markdown",
   "metadata": {},
   "source": [
    "## Amp Hour Rating\n",
    "Battery capacity ratings are given in ampere-hours ($Ah$) or milliampere-hours ($mAh$), The Life (L) in hours of a battery is defined as the ampere-hour rating ($Ah$) divided by the amperes drawn ($A$)\n",
    "\n",
    "$L=Ah/A$\n"
   ]
  },
  {
   "cell_type": "markdown",
   "metadata": {},
   "source": [
    "## Voltage, Current and Power\n",
    "Electric current $I$ is the flow of electrons, Voltage $E$ is the force that makes electrons move and is measured in volts $V$. Power $P$, measured in watts $W$ is the product of voltage and current. \n",
    "\n",
    "$P = E*I$\n",
    "\n",
    "$E = P/I$\n",
    "\n",
    "$I = P/E$\n",
    "\n",
    "The opposition of a material to current flow is called resistance $R$ and is measured in ohms $\\Omega$\n",
    "\n",
    "At room temperature, the resistance of a material is related to three factors:\n",
    "   -  $\\rho$ - the resistivity of the material\n",
    "   -  $l$ - the length of the sample\n",
    "   -  $A$ - the cross-sectional area\n",
    "\n",
    "\n",
    " $R=\\rho*l/A$\n",
    " \n",
    " Current, Voltage and Resistance are proportional. \n",
    " \n",
    " $R=E/I$\n",
    " \n",
    " $I = R/E$\n",
    " \n",
    " $E = I * R$\n",
    " \n",
    " \n",
    " Since $ P = E * I $ then\n",
    " \n",
    " $P = I^2 * R $  and  \n",
    " \n",
    " $P = E^2/R$\n",
    " \n",
    " \n",
    " ### Question:  What is the voltage drop across the standard resistor values between $1K \\Omega$ and $10K \\Omega$ when  $1mA$ of current passes across the resistor\n",
    " \n",
    " \n",
    " "
   ]
  },
  {
   "cell_type": "code",
   "execution_count": 7,
   "metadata": {
    "collapsed": false
   },
   "outputs": [
    {
     "name": "stdout",
     "output_type": "stream",
     "text": [
      "R=1.0K E=1.0mV\n",
      "R=1.1K E=1.1mV\n",
      "R=1.2K E=1.2mV\n",
      "R=1.3K E=1.3mV\n",
      "R=1.5K E=1.5mV\n",
      "R=1.6K E=1.6mV\n",
      "R=1.8K E=1.8mV\n",
      "R=2.0K E=2.0mV\n",
      "R=2.2K E=2.2mV\n",
      "R=2.4K E=2.4mV\n",
      "R=2.7K E=2.7mV\n",
      "R=3.0K E=3.0mV\n",
      "R=3.3K E=3.3000000000000003mV\n",
      "R=3.6K E=3.6mV\n",
      "R=3.9K E=3.9mV\n",
      "R=4.3K E=4.3mV\n",
      "R=4.7K E=4.7mV\n",
      "R=5.1K E=5.1000000000000005mV\n",
      "R=5.6K E=5.6000000000000005mV\n",
      "R=6.2K E=6.2mV\n",
      "R=6.8K E=6.8mV\n",
      "R=7.5K E=7.5mV\n",
      "R=8.2K E=8.2mV\n",
      "R=9.1K E=9.1mV\n",
      "R=10.0K E=10.0mV\n"
     ]
    }
   ],
   "source": [
    "const K = 1000\n",
    "const standard_resistors = [1.0K, 1.1K, 1.2K, 1.3K, 1.5K, 1.6K, 1.8K, \n",
    "                      2.0K, 2.2K, 2.4K, 2.7K, \n",
    "                      3.0K, 3.3K, 3.6K, 3.9K, \n",
    "                      4.3K, 4.7K,\n",
    "                      5.1K, 5.6K, \n",
    "                      6.2K, 6.8K, \n",
    "                      7.5K, \n",
    "                      8.2K, \n",
    "                      9.1K,\n",
    "                      10K]\n",
    "\n",
    "m = 1e-3\n",
    "Voltage(I,R) = I * R\n",
    "for r in standard_resistors\n",
    "    e = Voltage(1m,r)\n",
    "    println(\"R=\",r/K,\"K E=\",e, \"mV\")\n",
    "end"
   ]
  },
  {
   "cell_type": "markdown",
   "metadata": {},
   "source": [
    "## Frequency and Wavelength\n",
    "An alternating current (or voltage) is one that reverses direction (or polarity) with respect to time. \n",
    "An example of voltage varied over time is a sinsiodal waveform,  the number of cycles that the sine wave of the voltages passes through in 1 second is called its frequency $f$ and is measured in Hertz $Hz$.\n",
    "\n",
    "A harmonic is a frequency is is some integer multiple $(2,3,4....)$ of the lowest or fundamental frequency. \n",
    "\n",
    "The wavelength $\\lambda$ of a radio wave is the distance it travels during one cycle. All radio waves travel at the speed of light $c$ in whatever media they are travelling. The speed of light in space and air is $3x10^8 m/s$\n",
    "\n",
    "$\\lambda = c/f$\n",
    "\n",
    "$ f = c*\\lambda$\n",
    "\n",
    "### Question what is the wavelength of a radio wave with a frequency of $144 MHz$\n"
   ]
  },
  {
   "cell_type": "code",
   "execution_count": 8,
   "metadata": {
    "collapsed": false
   },
   "outputs": [
    {
     "name": "stdout",
     "output_type": "stream",
     "text": [
      "144Mhz has a wavelength of 2.0833333333333335 Meters"
     ]
    }
   ],
   "source": [
    "const Mhz = 1e6\n",
    "const speed_of_light = 3e8\n",
    "\n",
    "Wavelength(f_mhz) = speed_of_light /(f_mhz * Mhz)\n",
    "print(\"144Mhz has a wavelength of \", Wavelength(144), \" Meters\")"
   ]
  },
  {
   "cell_type": "markdown",
   "metadata": {},
   "source": [
    "## Power, Decibels\n",
    "When comparing voltage or power levels, a linear scale can become unwieldly making comparision and intuition about the comparision un-intutitive. For this reason, logarithmithic comparison allows for the comparision across a large scale. \n",
    "\n",
    "$N = 10^x$\n",
    "\n",
    "$x = \\log_{10} N$\n",
    "\n",
    "### Decibel comparision of Power\n",
    "When comparing power values $p_1$ and $p_2$, the decibel is defined as \n",
    "\n",
    "$dB = 10\\log_{10} (p_1/p_2)$\n",
    "\n",
    "When comparing voltage values $v_1$ and $v_2$, the decibel is defined as \n",
    "\n",
    "$dB = 20\\log_{10} (v_1/v_2)$\n",
    "\n",
    "\n",
    "### Question: if an amplifier turns a 5 watt signal into a 25 watt signal, what is the amplifier gain in dB?"
   ]
  },
  {
   "cell_type": "code",
   "execution_count": 9,
   "metadata": {
    "collapsed": false
   },
   "outputs": [
    {
     "ename": "LoadError",
     "evalue": "LoadError: UndefVarError: p2 not defined\nwhile loading In[9], in expression starting on line 5",
     "output_type": "error",
     "traceback": [
      "LoadError: UndefVarError: p2 not defined\nwhile loading In[9], in expression starting on line 5",
      ""
     ]
    }
   ],
   "source": [
    "# output is 25 watts, input is 5 watts\n",
    "p1 = 25\n",
    "P2 = 5\n",
    "\n",
    "dB = 10*log10(p1/p2)"
   ]
  },
  {
   "cell_type": "markdown",
   "metadata": {},
   "source": [
    "The amplifier gain is $\\approx 7dB$\n",
    "\n",
    "### Question: On a receiver, the audio volume control reduces the signal from $2V$ to $0.1V$ what is the voltage loss in dB?"
   ]
  },
  {
   "cell_type": "code",
   "execution_count": 10,
   "metadata": {
    "collapsed": false
   },
   "outputs": [
    {
     "data": {
      "text/plain": [
       "-26.020599913279625"
      ]
     },
     "execution_count": 10,
     "metadata": {},
     "output_type": "execute_result"
    }
   ],
   "source": [
    "#Input voltage 2v, output voltage 0.1v\n",
    "v1 = 2.0\n",
    "v2 = 0.1\n",
    "\n",
    "db = 20*log10(v2/v1)"
   ]
  },
  {
   "cell_type": "markdown",
   "metadata": {},
   "source": [
    "The voltage attenutation is $\\approx$ 26dB, note negative values indicate attenutation.\n",
    "\n",
    "### Reference values for dB\n",
    "There are several commonly used reference powers and voltages.\n",
    "\n",
    "$dBV$ means dB with respect to 1V\n",
    "\n",
    "$dBV = 20\\log_{10} (v/1)$\n",
    "\n",
    "$dB\\mu V$ means dB with respect to $1\\mu V$\n",
    "\n",
    "$dB\\mu V = 20\\log_{10} (v/1*10^{-6})$\n",
    "\n",
    "$dBm$ means dB with respect to $1mW$\n",
    "\n",
    "$dBm = 10\\log_{10} (p/1*10^{-3})$\n",
    "\n",
    "\n",
    "\n",
    "\n"
   ]
  }
 ],
 "metadata": {
  "kernelspec": {
   "display_name": "Julia 0.5.0",
   "language": "julia",
   "name": "julia-0.5"
  },
  "language_info": {
   "file_extension": ".jl",
   "mimetype": "application/julia",
   "name": "julia",
   "version": "0.5.0"
  }
 },
 "nbformat": 4,
 "nbformat_minor": 1
}
